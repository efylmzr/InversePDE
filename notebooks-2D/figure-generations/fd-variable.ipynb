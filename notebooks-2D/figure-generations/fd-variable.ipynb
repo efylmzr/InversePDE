{
 "cells": [
  {
   "cell_type": "code",
   "execution_count": 2,
   "metadata": {},
   "outputs": [],
   "source": [
    "import mitsuba as mi \n",
    "mi.set_variant(\"cuda_ad_rgb\")\n",
    "from PDE2D import PATH\n",
    "from PDE2D.utils.sketch import *\n",
    "from os import path\n",
    "import numpy as np\n",
    "import matplotlib.gridspec as gridspec\n",
    "import matplotlib\n",
    "from PDE2D.BoundaryShape import *\n",
    "from PDE2D import PATH \n",
    "from PDE2D.utils.common import *\n",
    "filename = path.join(PATH, \"output2D\", \"finite_differences\", \"variable\")\n",
    "colors = [\"black\", \"darkorange\"]\n",
    "frame_color =\"white\"\n",
    "u = 8\n",
    "fd = 0.1\n",
    "res = 16\n",
    "fd_step = 0.01\n",
    "source = np.load(path.join(filename, \"source\", f\"source{res}-fd{fd_step}.npy\"), allow_pickle=True).item()\n",
    "screening = np.load(path.join(filename, \"screening\", f\"screening{res}-fd{fd_step}.npy\"), allow_pickle=True).item()\n",
    "diffusion = np.load(path.join(filename, \"diffusion\", f\"diffusion{res}-fd{fd_step}.npy\"), allow_pickle=True).item()"
   ]
  },
  {
   "cell_type": "code",
   "execution_count": 3,
   "metadata": {},
   "outputs": [],
   "source": [
    "matplotlib.rcParams.update(MPL_STYLE)"
   ]
  },
  {
   "cell_type": "code",
   "execution_count": 4,
   "metadata": {},
   "outputs": [],
   "source": [
    "bunny = load_bunny(dirichlet=[ConstantCoefficient(\"a\")], neumann=[ConstantCoefficient(\"a\")])"
   ]
  },
  {
   "cell_type": "code",
   "execution_count": 5,
   "metadata": {},
   "outputs": [],
   "source": [
    "prb_source = np.repeat(np.repeat(source[\"prb\"], u, axis = 0), u, axis = 1)\n",
    "fd_source = np.repeat(np.repeat(source[\"fd\"], u, axis = 0), u, axis = 1)\n",
    "prb_screening = np.repeat(np.repeat(screening[\"prb\"], u, axis = 0), u, axis = 1)\n",
    "fd_screening = np.repeat(np.repeat(screening[\"fd\"], u, axis = 0), u, axis = 1)\n",
    "prb_diffusion = np.repeat(np.repeat(diffusion[\"prb\"], u, axis = 0), u, axis = 1)\n",
    "fd_diffusion = np.repeat(np.repeat(diffusion[\"fd\"], u, axis = 0), u, axis = 1)"
   ]
  },
  {
   "cell_type": "code",
   "execution_count": 6,
   "metadata": {},
   "outputs": [],
   "source": [
    "import matplotlib.ticker as ticker\n",
    "def fmt(x, pos):\n",
    "    a, b = '{:.1e}'.format(x).split('e')\n",
    "    b = int(b)\n",
    "    return r'${} \\times 10^{{{}}}$'.format(a, b)\n",
    "\n",
    "def plot_fd(ax1, ax2, ax3, fd, prb):\n",
    "    bbox = [[-1,-1],[1,1]]\n",
    "    right = 0.09\n",
    "    left = 0.11\n",
    "    top = 0.15\n",
    "    bottom = 0.3\n",
    "    bbox_  = [[bbox[0][0] * (1-left), bbox[0][1] * (1 - bottom)], [bbox[1][0] * (1-right), bbox[1][1] * (1-top)]]\n",
    "    resolution = fd.shape\n",
    "    indx = [int(resolution[0] * top /2), int(resolution[0]  * (1 - bottom / 2))]\n",
    "    indy = [int(resolution[0] * left /2), int(resolution[1]  * (1 - right / 2))]\n",
    "    fd_ = fd[indx[0]:indx[1], indy[0]:indy[1]]\n",
    "    prb_ = prb[indx[0]:indx[1], indy[0]:indy[1]]\n",
    "    maxval = max(np.max(fd), np.max(prb))\n",
    "    minval = min(np.min(fd), np.min(prb))\n",
    "    max_range = max(maxval, -minval)\n",
    "    im1 = plot_image(fd_, ax1, input_range=(-max_range, max_range), cmap = \"coolwarm\", colorbar=False)\n",
    "    im2 = plot_image(prb_, ax2, input_range=(-max_range, max_range), cmap = 'coolwarm', colorbar = False)\n",
    "    #cbar = plt.colorbar(im1, cax = ax3, format = ticker.FuncFormatter(fmt), orientation = \"horizontal\")\n",
    "    cbar = plt.colorbar(im1, cax = ax3, orientation = \"vertical\")\n",
    "    tick_locator = ticker.MaxNLocator(nbins=3)\n",
    "    cbar.locator = tick_locator\n",
    "    cbar.update_ticks()\n",
    "    cbar.formatter.set_powerlimits((0, 0))\n",
    "    cbar.ax.yaxis.set_offset_position('left') \n",
    "    cbar.update_ticks() \n",
    "    #plot_image(np.abs(fd.squeeze()-prb.squeeze()), ax[2], cmap = 'coolwarm')\n",
    "    resolution_ = [fd_.shape[0], fd_.shape[1]]\n",
    "    bunny.sketch(ax1, bbox_, resolution_, lw = 1, colors = colors)\n",
    "    bunny.sketch(ax2, bbox_, resolution_, lw = 1, colors = colors)\n",
    "    #bunny.sketch(ax[2], bbox, [res * u, res * u])"
   ]
  },
  {
   "cell_type": "code",
   "execution_count": 7,
   "metadata": {},
   "outputs": [
    {
     "name": "stderr",
     "output_type": "stream",
     "text": [
      "GPL Ghostscript 9.55.0: Can't embed the complete font LinBiolinumT as it is too large, embedding a subset.\n",
      "GPL Ghostscript 9.55.0: Can't embed the complete font LinLibertineT as it is too large, embedding a subset.\n"
     ]
    },
    {
     "data": {
      "text/plain": [
       "'/home/ekrem/repos/MC-PDE3D/figures/fd_2D/fd_2D.pdf'"
      ]
     },
     "execution_count": 7,
     "metadata": {},
     "output_type": "execute_result"
    },
    {
     "data": {
      "image/png": "[encoded data removed]",
      "text/plain": [
       "<Figure size 337.705x140.071 with 10 Axes>"
      ]
     },
     "metadata": {},
     "output_type": "display_data"
    }
   ],
   "source": [
    "import matplotlib.pyplot as plt \n",
    "imsize = 32\n",
    "cbar_size = 2\n",
    "\n",
    "pad = 2\n",
    "imsize1 = 31\n",
    "imsize2 = 36\n",
    "cbar_begin_pad = 2\n",
    "cbar_pad = 2\n",
    "cbar_end_pad = 15\n",
    "bb1 = 3\n",
    "bb2 = 1\n",
    "o1 = 9\n",
    "o2 = 11\n",
    "total_cbar_pad = cbar_begin_pad + cbar_pad + cbar_end_pad\n",
    "lx = 2 * imsize1  + pad + o1\n",
    "ly = imsize2 * 3 + 3 * total_cbar_pad  + o2\n",
    "scale = COLUMN_WIDTH / ly\n",
    "fig = plt.figure(figsize= (ly * scale , lx * scale))\n",
    "g = gridspec.GridSpec(lx, ly, figure = fig, wspace = 0.0, hspace=0.0)\n",
    "ax = fig.add_subplot(g[:,:])\n",
    "disable_ticks(ax)\n",
    "plt.setp(ax.spines.values(), color=frame_color)\n",
    "ax11 = fig.add_subplot(g[0 + o1:imsize1+ o1, 0 + o2 : imsize2+ o2])\n",
    "ax12 = fig.add_subplot(g[imsize1 + pad+ o1: 2 * imsize1+ o1 + pad, o2: imsize2+ o2])\n",
    "ax13 = fig.add_subplot(g[ bb1 + o1:, imsize2 + cbar_begin_pad + o2: imsize2 + cbar_pad + cbar_begin_pad+ o2])\n",
    "plot_fd(ax11, ax12, ax13, fd_source, prb_source)\n",
    "ax21 = fig.add_subplot(g[0+ o1:imsize1+ o1, imsize2 + total_cbar_pad+ o2 : 2 * imsize2 + total_cbar_pad+ o2])\n",
    "ax22 = fig.add_subplot(g[imsize1 + pad+ o1: 2 * imsize1 + pad+ o1, imsize2 + total_cbar_pad + o2: 2 * imsize2 + total_cbar_pad+ o2])\n",
    "ax23 = fig.add_subplot(g[ bb1+ o1 :, 2 * imsize2 + cbar_begin_pad + total_cbar_pad+ o2 : 2 * imsize2 + cbar_pad + cbar_begin_pad + total_cbar_pad+ o2])\n",
    "plot_fd(ax21, ax22, ax23, fd_screening, prb_screening)\n",
    "ax31 = fig.add_subplot(g[0+ o1:imsize1+ o1, 2 * imsize2 + 2 * total_cbar_pad+ o2 : 3 * imsize2 + 2 * total_cbar_pad+ o2])\n",
    "ax32 = fig.add_subplot(g[imsize1 + pad + o1: 2 * imsize1 + pad+ o1, 2 * imsize2 + 2 * total_cbar_pad+ o2 : 3 * imsize2 + 2 * total_cbar_pad+ o2])\n",
    "ax33 = fig.add_subplot(g[ bb1 + o1:, 3 * imsize2 + cbar_begin_pad + 2 * total_cbar_pad+ o2 : 3 * imsize2 + cbar_pad + cbar_begin_pad + 2 * total_cbar_pad+ o2])\n",
    "plot_fd(ax31, ax32, ax33, fd_diffusion, prb_diffusion)\n",
    "ax11.set_ylabel(\"FD\", fontsize =  DEFAULT_FONTSIZE_SMALL)\n",
    "ax12.set_ylabel(\"Ours\", fontsize = DEFAULT_FONTSIZE_SMALL) \n",
    "\n",
    "pad= 4\n",
    "ax11.set_title(r\"Source, $f$\", fontsize = DEFAULT_FONTSIZE_SMALL, pad = pad)\n",
    "ax21.set_title(r\"Screening, $\\sigma$\", fontsize = DEFAULT_FONTSIZE_SMALL, pad = pad)\n",
    "ax31.set_title(r\"Diffusion, $\\alpha$\", fontsize = DEFAULT_FONTSIZE_SMALL, pad = pad)\n",
    "\n",
    "save_fig(\"fd_2D\", os.path.join(PATH, \"figures\"))\n",
    "#plt.savefig(\"fd_comparison_variable.pdf\", bbox_inches='tight', pad_inches=0.04, dpi=300)"
   ]
  }
 ],
 "metadata": {
  "kernelspec": {
   "display_name": "invpde-3D",
   "language": "python",
   "name": "python3"
  },
  "language_info": {
   "codemirror_mode": {
    "name": "ipython",
    "version": 3
   },
   "file_extension": ".py",
   "mimetype": "text/x-python",
   "name": "python",
   "nbconvert_exporter": "python",
   "pygments_lexer": "ipython3",
   "version": "3.10.12"
  }
 },
 "nbformat": 4,
 "nbformat_minor": 2
}
