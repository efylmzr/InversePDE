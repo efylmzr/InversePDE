{
 "cells": [
  {
   "cell_type": "code",
   "execution_count": 1,
   "metadata": {},
   "outputs": [],
   "source": [
    "import numpy as np\n",
    "import sys\n",
    "import drjit as dr \n",
    "import mitsuba as mi\n",
    "mi.set_variant(\"cuda_ad_rgb\")\n",
    "sys.path.append(\"../../\")\n",
    "from PDE2D.utils.sketch import *\n",
    "from PDE2D.BoundaryShape import *\n",
    "import matplotlib.gridspec as gridspec\n",
    "import matplotlib\n",
    "from PDE2D import PATH\n",
    "import os\n",
    "from PDE2D.utils import *"
   ]
  },
  {
   "cell_type": "code",
   "execution_count": 2,
   "metadata": {},
   "outputs": [],
   "source": [
    "linewidth = 1\n",
    "frame_color = \"white\"\n",
    "e_size = 3\n",
    "def disable_ticks(ax):\n",
    "    \"\"\"Disable ticks around plot (useful for displaying images)\"\"\"\n",
    "    ax.axes.get_xaxis().set_ticklabels([])\n",
    "    ax.axes.get_yaxis().set_ticklabels([])\n",
    "    ax.axes.get_xaxis().set_ticks([])\n",
    "    ax.axes.get_yaxis().set_ticks([])\n",
    "\n",
    "def disable_ticks_y(ax):\n",
    "    \"\"\"Disable ticks around plot (useful for displaying images)\"\"\"\n",
    "    ax.axes.get_yaxis().set_ticklabels([])\n",
    "    ax.axes.get_yaxis().set_ticks([])\n",
    "\n",
    "def disable_border(ax):\n",
    "    \"\"\"Disable border around plot\"\"\"\n",
    "    ax.spines['top'].set_visible(False)\n",
    "    ax.spines['right'].set_visible(False)\n",
    "    ax.spines['bottom'].set_visible(False)\n",
    "    ax.spines['left'].set_visible(False)"
   ]
  },
  {
   "cell_type": "code",
   "execution_count": 3,
   "metadata": {},
   "outputs": [],
   "source": [
    "\n",
    "col_width = COLUMN_WIDTH\n",
    "\n",
    "matplotlib.rcParams.update(MPL_STYLE)"
   ]
  },
  {
   "cell_type": "markdown",
   "metadata": {},
   "source": [
    "## SDF FD Test"
   ]
  },
  {
   "cell_type": "code",
   "execution_count": 4,
   "metadata": {},
   "outputs": [
    {
     "data": {
      "text/plain": [
       "array([[[0., 0., 0.],\n",
       "        [0., 0., 0.],\n",
       "        [0., 0., 0.],\n",
       "        ...,\n",
       "        [0., 0., 0.],\n",
       "        [0., 0., 0.],\n",
       "        [0., 0., 0.]],\n",
       "\n",
       "       [[0., 0., 0.],\n",
       "        [0., 0., 0.],\n",
       "        [0., 0., 0.],\n",
       "        ...,\n",
       "        [0., 0., 0.],\n",
       "        [0., 0., 0.],\n",
       "        [0., 0., 0.]],\n",
       "\n",
       "       [[0., 0., 0.],\n",
       "        [0., 0., 0.],\n",
       "        [0., 0., 0.],\n",
       "        ...,\n",
       "        [0., 0., 0.],\n",
       "        [0., 0., 0.],\n",
       "        [0., 0., 0.]],\n",
       "\n",
       "       ...,\n",
       "\n",
       "       [[0., 0., 0.],\n",
       "        [0., 0., 0.],\n",
       "        [0., 0., 0.],\n",
       "        ...,\n",
       "        [0., 0., 0.],\n",
       "        [0., 0., 0.],\n",
       "        [0., 0., 0.]],\n",
       "\n",
       "       [[0., 0., 0.],\n",
       "        [0., 0., 0.],\n",
       "        [0., 0., 0.],\n",
       "        ...,\n",
       "        [0., 0., 0.],\n",
       "        [0., 0., 0.],\n",
       "        [0., 0., 0.]],\n",
       "\n",
       "       [[0., 0., 0.],\n",
       "        [0., 0., 0.],\n",
       "        [0., 0., 0.],\n",
       "        ...,\n",
       "        [0., 0., 0.],\n",
       "        [0., 0., 0.],\n",
       "        [0., 0., 0.]]])"
      ]
     },
     "execution_count": 4,
     "metadata": {},
     "output_type": "execute_result"
    },
    {
     "data": {
      "image/png": "[encoded data removed]",
      "text/plain": [
       "<Figure size 500x500 with 1 Axes>"
      ]
     },
     "metadata": {},
     "output_type": "display_data"
    }
   ],
   "source": [
    "box_length = 2.1\n",
    "box_center = [0,0]\n",
    "sdf_res = 16\n",
    "num_electrodes = 16\n",
    "injections  = mi.Vector2f([0,10])\n",
    "sdf_array   = np.array([[1, 1, 1, 1, 1, 1, 1, 1, 1, 1, 1, 1, 1, 1, 1, 1],\n",
    "                        [1, 1, 1, 1, 1, 1, 1, 1, 1, 1, 1, 1, 1, 1, 1, 1],\n",
    "                        [1, 1, 1, 1, 1, 1, 1, 1, 1, 1, 1, 1, 1, 1, 1, 1],\n",
    "                        [1, 1, 1, 1, 1, 1, 1, 1, 1, 1, 1, 1, 1, 1, 1, 1],\n",
    "                        [1, 1, 1, 1, 1, 1, 1, 1, 1, 1, 1, 1, 1, 1, 1, 1],\n",
    "                        [1, 1, 1, 1, 1, 1, 1,-1, 1, 1, 1, 1, 1, 1, 1, 1],\n",
    "                        [1, 1, 1, 1,-1, 1,-1,-1,-1, 1, 1, 1, 1, 1, 1, 1],\n",
    "                        [1, 1, 1,-1,-1,-1,-1,-1,-1,-1, 1, 1, 1, 1, 1, 1],\n",
    "                        [1, 1, 1,-1,-1,-1,-1, 1, 1, 1, 1, 1, 1, 1, 1, 1],\n",
    "                        [1, 1, 1,-1,-1,-1,-1, 1, 1, 1, 1, 1, 1, 1, 1, 1],\n",
    "                        [1, 1, 1,-1,-1,-1,-1, 1, 1, 1, 1, 1, 1, 1, 1, 1],\n",
    "                        [1, 1, 1, 1,-1,-1,-1, 1, 1, 1, 1, 1, 1, 1, 1, 1],\n",
    "                        [1, 1, 1, 1, 1,-1, 1, 1, 1, 1, 1, 1, 1, 1, 1, 1],\n",
    "                        [1, 1, 1, 1, 1, 1, 1, 1, 1, 1, 1, 1, 1, 1, 1, 1],\n",
    "                        [1, 1, 1, 1, 1, 1, 1, 1, 1, 1, 1, 1, 1, 1, 1, 1],\n",
    "                        [1, 1, 1, 1, 1, 1, 1, 1, 1, 1, 1, 1, 1, 1, 1, 1]])\n",
    "\n",
    "\n",
    "in_shape = SDFGrid(tensor_np= sdf_array, box_length=box_length, box_center=box_center, name = \"in-boundary\",\n",
    "                              redistance = True, low_res = sdf_res)\n",
    "out_shape = CircleWithElectrodes(origin = mi.Vector2f(0.0, 0.0), radius = 1.0, name = \"out-boundary\", \n",
    "                                 injection_confs=[[0,10]], is_delta=True)\n",
    "shape = BoundaryWithDirichlets(out_boundary=out_shape, dirichlet_boundaries=[in_shape], dirichlet_values = [0])\n",
    "\n",
    "input = DataHolder(shape)\n",
    "\n",
    "wos = WostConstant(input)\n",
    "\n",
    "#electrode_nums = [1,2,3,4,5,6,7,8,9,11,12,13,14,15]\n",
    "electrode_nums = np.arange(16)\n",
    "fig, ax = plt.subplots(1,1, figsize = (5,5))\n",
    "wos.input.shape.sketch_image(ax, bbox = [[-1.11,-1.11],[1.11,1.11]], resolution = [1024,1024])"
   ]
  },
  {
   "cell_type": "code",
   "execution_count": 5,
   "metadata": {},
   "outputs": [],
   "source": [
    "distance = 0.01\n",
    "iter_fd = 128\n",
    "fd_step = 0.005\n",
    "path_prb = os.path.join(PATH, \"output2D\", \"finite_differences\", \"discrete-sdf\", \"prb\")\n",
    "path_fd = os.path.join(PATH, \"output2D\", \"finite_differences\", \"discrete-sdf\", \"fd\", f\"fd{fd_step}\")\n",
    "\n",
    "\n",
    "fd_x = []\n",
    "fd_y = []\n",
    "for i in range(iter_fd):\n",
    "    fd_x.append(np.load(os.path.join(path_fd, f\"x-{i}.npy\")))\n",
    "    fd_y.append(np.load(os.path.join(path_fd, f\"y-{i}.npy\")))\n",
    "\n",
    "grad_fd_x = np.sum(np.array(fd_x), axis = 0) / iter_fd\n",
    "grad_fd_y = np.sum(np.array(fd_y), axis = 0) / iter_fd\n",
    "\n",
    "\n",
    "\n",
    "grad_x_01 = np.load(os.path.join(path_prb, f\"gradx-d0.01.npy\")).squeeze()\n",
    "grad_y_01 = np.load(os.path.join(path_prb, f\"grady-d0.01.npy\")).squeeze()\n",
    "grad_x_1 = np.load(os.path.join(path_prb, f\"gradx-d0.1.npy\")).squeeze()\n",
    "grad_y_1 = np.load(os.path.join(path_prb, f\"grady-d0.1.npy\")).squeeze()\n",
    "grad_x_2 = np.load(os.path.join(path_prb, f\"gradx-d0.2.npy\")).squeeze()\n",
    "grad_y_2 = np.load(os.path.join(path_prb, f\"grady-d0.2.npy\")).squeeze()"
   ]
  },
  {
   "cell_type": "code",
   "execution_count": 6,
   "metadata": {},
   "outputs": [],
   "source": [
    "def plot_primals(ax, data, entry_nums, num_entries, names, colors, fontsize = 7, label = True, scale = 1.2, grid = True, legend = True):\n",
    "    max_val = -np.inf\n",
    "    min_val = np.inf\n",
    "    el_means = {}\n",
    "    electrodes = np.arange(num_entries)\n",
    "    for i, vals in enumerate(data):\n",
    "        val = np.zeros(num_entries)\n",
    "        val[entry_nums] = data[i]\n",
    "        el_means[names[i]] = val         \n",
    "        max_val = max(np.max(data[i]), max_val)\n",
    "        min_val = min(np.min(data[i]), min_val)\n",
    "    el_names = [f\"{electrodes[i]}\" for i in range(num_entries)]\n",
    "    \n",
    "\n",
    "    x = np.arange(num_entries)  # the label locations\n",
    "    width = 0.2# the width of the bars\n",
    "    multiplier = 1\n",
    "\n",
    "    for i, (attribute, measurement) in enumerate(el_means.items()):\n",
    "        offset = width * multiplier\n",
    "        rects = ax.bar(x + offset, measurement, width, label=attribute, color = colors[i])\n",
    "        if label:\n",
    "            ax.bar_label(rects, padding=3, fmt=\"%.2e\", rotation = \"vertical\", \n",
    "                         label_type = \"center\", fontsize = fontsize)\n",
    "        multiplier += 1\n",
    "\n",
    "    # Add some text for labels, title and custom x-axis tick labels, etc.\n",
    "    ax.set_ylabel('Voltage V')\n",
    "    ax.set_title('Primal Comparison')\n",
    "    ax.set_xticks(x[::2] + width + 0.3, el_names[::2])\n",
    "    if legend:\n",
    "        ax.legend(loc='upper left', fontsize = 3.8, ncol = 2)\n",
    "    ax.set_ylim(scale * min_val, scale * max_val)\n",
    "    if grid:\n",
    "        ax.grid()\n",
    "    \n",
    "    ax.axhline(y = 0, linewidth = 0.3, color = \"black\")"
   ]
  },
  {
   "cell_type": "code",
   "execution_count": 7,
   "metadata": {},
   "outputs": [],
   "source": [
    "\n",
    "def plot_shape_sdf(shape, ax, bbox, resolution):\n",
    "    image = shape.in_boundaries[0].sketch_image(ax, bbox = bbox, resolution = resolution, channel = 2)\n",
    "    black_region = image.sum(axis = 2) < 0.1\n",
    "    image[black_region]  = 1\n",
    "    shape.out_boundary.sketch(ax, bbox, resolution, lw = linewidth, e_size=e_size)\n",
    "    ax.imshow(image)\n",
    "    ax.axis(\"on\")\n",
    "    disable_ticks(ax)\n",
    "    disable_border(ax)"
   ]
  },
  {
   "cell_type": "code",
   "execution_count": 8,
   "metadata": {},
   "outputs": [
    {
     "name": "stderr",
     "output_type": "stream",
     "text": [
      "GPL Ghostscript 9.55.0: Can't embed the complete font LinBiolinumT as it is too large, embedding a subset.\n",
      "GPL Ghostscript 9.55.0: Can't embed the complete font LinLibertineT as it is too large, embedding a subset.\n"
     ]
    },
    {
     "data": {
      "image/png": "[encoded data removed]",
      "text/plain": [
       "<Figure size 337.705x138.152 with 4 Axes>"
      ]
     },
     "metadata": {},
     "output_type": "display_data"
    }
   ],
   "source": [
    "colors = [\"grey\", \"darkcyan\", \"darkturquoise\", \"paleturquoise\"]\n",
    "s1 = 4.5\n",
    "s2 = 11\n",
    "pad1 = 1\n",
    "pad2 = 1\n",
    "scale = col_width / (2 * s1 + s2 +  pad1 + pad2) \n",
    "fig = plt.figure(figsize= (((2 * s1 + s2 + pad1+ pad2) * scale, (2 * s1) * scale)))\n",
    "s1 = 4\n",
    "s2 = 10\n",
    "g = gridspec.GridSpec(2 * s1 , (2 * s1 + s2 + pad1+ pad2), figure = fig, wspace = 3, hspace=1)\n",
    "ax = fig.add_subplot(g[:,:])\n",
    "disable_ticks(ax)\n",
    "plt.setp(ax.spines.values(), color=\"white\")\n",
    "ax_shape = fig.add_subplot(g[:, :2 * s1])\n",
    "ax_x = fig.add_subplot(g[:s1, 2 * s1 + pad1: - pad2])\n",
    "ax_y = fig.add_subplot(g[s1:, 2 * s1 + pad1: -pad2])\n",
    "#shape_holder.sketch(ax_shape, bbox = [[-1.11,-1.11],[1.11,1.11]], resolution = [1024,1024])\n",
    "bbox = [[-1.05,-1.05],[1.05,1.05]]\n",
    "resolution = [1024, 1024]\n",
    "plot_shape_sdf(shape, ax_shape, bbox, resolution)\n",
    "plot_primals(ax_x, [grad_fd_x, grad_x_01, grad_x_1, grad_x_2], electrode_nums, num_electrodes, \n",
    "             [\"FD\", \"t=0.01\", \"t=0.1\", \"t=0.2\"], colors = colors, label = False, grid = False)\n",
    "plot_primals(ax_y, [grad_fd_y, grad_y_01, grad_y_1, grad_y_2],  electrode_nums, num_electrodes, \n",
    "             [\"FD\", \"t=0.01\", \"t=0.1\" , \"t=0.2\"], colors = colors, label = False, legend = False, grid = False)\n",
    "pad = 3\n",
    "ax_shape.set_title(\"FD setup\", fontsize = DEFAULT_FONTSIZE_SMALL, pad = pad + 2.6)\n",
    "ax_x.set_title(\"FD comparisons\", fontsize = DEFAULT_FONTSIZE_SMALL, pad = pad)\n",
    "ax_y.set_title(\"\")\n",
    "ax_x.yaxis.set_label_position(\"right\")\n",
    "ax_y.yaxis.set_label_position(\"right\")\n",
    "ax_x.set_ylabel(\"Horizontal\", fontsize =DEFAULT_FONTSIZE_SMALL)\n",
    "ax_y.set_ylabel(\"Vertical\", fontsize = DEFAULT_FONTSIZE_SMALL)\n",
    "for tick in ax_x.xaxis.get_major_ticks():\n",
    "    tick.tick1line.set_visible(False)\n",
    "    tick.tick2line.set_visible(False)\n",
    "    tick.label1.set_visible(False)\n",
    "    tick.label2.set_visible(False)\n",
    "#fig.savefig(\"fd-sdf.pdf\", bbox_inches='tight', pad_inches=0.005, dpi=300)\n",
    "save_fig(\"fd-sdf\", os.path.join(PATH, \"figures\"))\n",
    "plt.savefig(os.path.join(PATH, \"figures\", \"png\", \"fd-sdf.png\"), bbox_inches='tight', pad_inches=0.04, dpi=750)"
   ]
  }
 ],
 "metadata": {
  "kernelspec": {
   "display_name": "invpde-3D",
   "language": "python",
   "name": "python3"
  },
  "language_info": {
   "codemirror_mode": {
    "name": "ipython",
    "version": 3
   },
   "file_extension": ".py",
   "mimetype": "text/x-python",
   "name": "python",
   "nbconvert_exporter": "python",
   "pygments_lexer": "ipython3",
   "version": "3.10.12"
  }
 },
 "nbformat": 4,
 "nbformat_minor": 2
}
