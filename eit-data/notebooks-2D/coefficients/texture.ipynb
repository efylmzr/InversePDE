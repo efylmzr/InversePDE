{
 "cells": [
  {
   "cell_type": "code",
   "execution_count": 1,
   "metadata": {},
   "outputs": [],
   "source": [
    "import mitsuba as mi \n",
    "mi.set_variant(\"cuda_ad_rgb\")\n",
    "from PDE2D.Coefficient import *\n",
    "from PDE2D.utils import *\n",
    "from matplotlib import pyplot as plt, patches\n",
    "bbox = [[-2, -2],[2, 2]]\n",
    "from mitsuba import Point2f, Float, Texture2f, Texture1f"
   ]
  },
  {
   "cell_type": "code",
   "execution_count": 2,
   "metadata": {},
   "outputs": [],
   "source": [
    "image = np.array([[1, 3, 3, 3, 2, 4, 5, 2],\n",
    "                  [4, 4, 3, 8, 8, 1, 1, 1],\n",
    "                  [8, 4, 9, 6, 0, 1, 1, 5],\n",
    "                  [1, 0, 4, 1, 1, 1, 1, 3],\n",
    "                  [2, 0, 3, 1, 1, 1, 1, 5],\n",
    "                  [3, 0, 0, 3, 1, 1, 2, 1],\n",
    "                  [3, 8, 8, 8, 8, 8, 4, 4],\n",
    "                  [4, 2, 3, 5, 1, 1, 5, 1]])\n",
    "coeff = TextureCoefficient(\"test\", bbox, image)"
   ]
  },
  {
   "cell_type": "code",
   "execution_count": 3,
   "metadata": {},
   "outputs": [],
   "source": [
    "\n",
    "resolution = [256, 256]\n",
    "spp = 1024\n",
    "fd_step = 1e-3\n",
    "points = create_image_points(bbox, resolution, spp)"
   ]
  },
  {
   "cell_type": "code",
   "execution_count": null,
   "metadata": {},
   "outputs": [],
   "source": [
    "\n",
    "fnc_vals = coeff.get_value(points)\n",
    "image_, tensor_ = create_image_from_result(fnc_vals,  resolution)\n",
    "fig, (ax1) = plt.subplots(1,1, figsize=[5, 5])\n",
    "plot_image(image_, ax1)\n",
    "ax1.set_title(\"FNC\")"
   ]
  },
  {
   "cell_type": "code",
   "execution_count": 5,
   "metadata": {},
   "outputs": [],
   "source": [
    "\n",
    "fnc_vals_fdx = coeff.get_value(points +Point2f(1,0) * fd_step)\n",
    "fnc_vals_fdy = coeff.get_value(points +Point2f(0,1) * fd_step)\n",
    "fnc_vals_fdx_ = coeff.get_value(points -Point2f(1,0) * fd_step)\n",
    "fnc_vals_fdy_ = coeff.get_value(points -Point2f(0,1) * fd_step)\n",
    "image, tensor = create_image_from_result(fnc_vals, resolution)\n",
    "image_fdx, tensor_fdx = create_image_from_result((fnc_vals_fdx - fnc_vals_fdx_) / (2 * fd_step), resolution)\n",
    "image_fdy, tensor_fdy = create_image_from_result((fnc_vals_fdy - fnc_vals_fdy_) / (2 * fd_step),  resolution)\n",
    "grad, laplacian = coeff.get_grad_laplacian(points)\n",
    "grad_x, grad_x_tensor = create_image_from_result(grad[0], resolution)\n",
    "grad_y, grad_x_tensor  = create_image_from_result(grad[1],resolution)\n",
    "\n",
    "\n",
    "laplacian_fd = ((fnc_vals_fdx + fnc_vals_fdx_ - 2 * fnc_vals) / dr.square(fd_step) +\n",
    "                (fnc_vals_fdy + fnc_vals_fdy_ - 2 * fnc_vals) / dr.square(fd_step))\n",
    "laplacian_fd_im, laplacian_fd_tensor = create_image_from_result(laplacian_fd, resolution)\n",
    "laplacian_fnc_im, laplacian_fnc_tensor = create_image_from_result(laplacian, resolution)"
   ]
  },
  {
   "cell_type": "code",
   "execution_count": null,
   "metadata": {},
   "outputs": [],
   "source": [
    "fig, (ax1, ax2) = plt.subplots(1,2, figsize=[11, 5])\n",
    "plot_image(grad_x, ax1)\n",
    "ax1.set_title(\"FNC\")\n",
    "plot_image(image_fdx, ax2)\n",
    "ax2.set_title(\"FD\")\n",
    "fig.suptitle(\"Grad X\")"
   ]
  },
  {
   "cell_type": "code",
   "execution_count": null,
   "metadata": {},
   "outputs": [],
   "source": [
    "sketch_diff(grad_x, image_fdx)"
   ]
  },
  {
   "cell_type": "code",
   "execution_count": null,
   "metadata": {},
   "outputs": [],
   "source": [
    "fig, (ax1, ax2) = plt.subplots(1,2, figsize=[11, 5])\n",
    "plot_image(grad_y, ax1)\n",
    "ax1.set_title(\"FNC\")\n",
    "plot_image(image_fdy, ax2)\n",
    "ax2.set_title(\"FD\")\n",
    "fig.suptitle(\"Grad Y\")"
   ]
  },
  {
   "cell_type": "code",
   "execution_count": null,
   "metadata": {},
   "outputs": [],
   "source": [
    "sketch_diff(grad_y, image_fdy)"
   ]
  },
  {
   "cell_type": "code",
   "execution_count": null,
   "metadata": {},
   "outputs": [],
   "source": [
    "fig, (ax1, ax2) = plt.subplots(1,2, figsize=[11, 5])\n",
    "plot_image(laplacian_fnc_im, ax1)\n",
    "ax1.set_title(\"FNC\")\n",
    "plot_image(laplacian_fd_im, ax2)\n",
    "ax2.set_title(\"FD\")\n",
    "fig.suptitle(\"Laplacian\")"
   ]
  },
  {
   "cell_type": "code",
   "execution_count": null,
   "metadata": {},
   "outputs": [],
   "source": [
    "sketch_diff(laplacian_fd_im, laplacian_fnc_im)"
   ]
  }
 ],
 "metadata": {
  "interpreter": {
   "hash": "899c2ba5e028c8eb8cfa0d6ef754422f3fb8e49ec03f82c49492f8073d20649c"
  },
  "kernelspec": {
   "display_name": "Python 3.9.16 64-bit",
   "language": "python",
   "name": "python3"
  },
  "language_info": {
   "codemirror_mode": {
    "name": "ipython",
    "version": 3
   },
   "file_extension": ".py",
   "mimetype": "text/x-python",
   "name": "python",
   "nbconvert_exporter": "python",
   "pygments_lexer": "ipython3",
   "version": "3.10.12"
  },
  "orig_nbformat": 4
 },
 "nbformat": 4,
 "nbformat_minor": 2
}
