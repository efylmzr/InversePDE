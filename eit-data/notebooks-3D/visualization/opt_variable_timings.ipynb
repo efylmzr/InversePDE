{
 "cells": [
  {
   "cell_type": "code",
   "execution_count": 1,
   "metadata": {},
   "outputs": [],
   "source": [
    "import numpy as np\n",
    "from PDE3D import PATH\n",
    "import mitsuba as mi \n",
    "mi.set_variant(\"cuda_ad_rgb\")\n",
    "import os\n",
    "from PDE3D.utils import *\n",
    "root_directory = os.path.join(PATH, \"output\", \"optimizations\")\n",
    "from PDE3D.BoundaryShape import *\n",
    "from PDE3D.Coefficient import *\n",
    "import matplotlib.pyplot as plt\n",
    "from matplotlib import gridspec\n",
    "import matplotlib\n",
    "import matplotlib.ticker as ticker\n",
    "from python.optimization.textures import load_boundary_data"
   ]
  },
  {
   "cell_type": "code",
   "execution_count": 2,
   "metadata": {},
   "outputs": [],
   "source": [
    "\n",
    "seed = 243\n",
    "spp = 11\n",
    "spp_primal = 13"
   ]
  },
  {
   "cell_type": "code",
   "execution_count": 3,
   "metadata": {},
   "outputs": [],
   "source": [
    "conf = 1 \n",
    "parameter = \"source\"\n",
    "bias = 0.0\n",
    "scale=10.0\n",
    "screen_s1 = 0\n",
    "folder0 = f\"conf{conf}-{parameter}-constDirichlet\"\n",
    "folder1 = f\"res16-scale{scale}-bias{bias}-centered-screen{screen_s1}\"\n",
    "folder2 = f\"spp{spp_primal}_{spp}-seed{seed}-epsilon0.01\"\n",
    "folder3 = \"restensor16\"\n",
    "recordpath = os.path.join(root_directory, folder0, folder1, \n",
    "                          folder2, folder3, \"npy\")\n",
    "max_range_s1 = [bias, bias+scale * 1.1]\n",
    "s1_primal = np.load(os.path.join(recordpath, \"primal_time.npy\"))\n",
    "s1_grad = np.load(os.path.join(recordpath,  \"grad_time.npy\"))\n",
    "\n",
    "\n",
    "\n",
    "conf = 2 \n",
    "parameter = \"source\"\n",
    "bias = 0.0\n",
    "scale=10.0\n",
    "screen_s2 = 10.0\n",
    "folder0 = f\"conf{conf}-{parameter}-constDirichlet\"\n",
    "folder1 = f\"res16-scale{scale}-bias{bias}-centered-screen{screen_s2}\"\n",
    "folder2 = f\"spp{spp_primal}_{spp}-seed{seed}-epsilon0.01\"\n",
    "folder3 = \"restensor16\"\n",
    "recordpath = os.path.join(root_directory, folder0, folder1, \n",
    "                          folder2, folder3, \"npy\")\n",
    "max_range_s2 = [bias, bias+scale * 1.1]\n",
    "s2_primal = np.load(os.path.join(recordpath, \"primal_time.npy\"))\n",
    "s2_grad = np.load(os.path.join(recordpath,  \"grad_time.npy\"))\n",
    "\n"
   ]
  },
  {
   "cell_type": "code",
   "execution_count": 4,
   "metadata": {},
   "outputs": [],
   "source": [
    "conf = 3\n",
    "parameter = \"screening\"\n",
    "bias = 0.0\n",
    "scale=20.0\n",
    "folder0 = f\"conf{conf}-{parameter}\"\n",
    "folder1 = f\"res16-scale{scale}-bias{bias}-centered\"\n",
    "folder2 = f\"spp{spp_primal}_{spp}-seed{seed}-epsilon0.01\"\n",
    "folder3 = \"restensor16\"\n",
    "recordpath = os.path.join(root_directory, folder0, folder1, \n",
    "                          folder2, folder3, \"npy\")\n",
    "max_range_sc1 = [bias, bias+scale * 1.1]\n",
    "sc1_primal = np.load(os.path.join(recordpath, \"primal_time.npy\"))\n",
    "sc1_grad = np.load(os.path.join(recordpath,  \"grad_time.npy\"))\n",
    "\n",
    "conf = 4\n",
    "parameter = \"screening\"\n",
    "bias = 10.0\n",
    "scale=20.0\n",
    "folder0 = f\"conf{conf}-{parameter}\"\n",
    "folder1 = f\"res16-scale{scale}-bias{bias}-centered\"\n",
    "folder2 = f\"spp{spp_primal}_{spp}-seed{seed}-epsilon0.01\"\n",
    "folder3 = \"restensor16\"\n",
    "recordpath = os.path.join(root_directory, folder0, folder1, \n",
    "                          folder2, folder3, \"npy\")\n",
    "max_range_sc2 = [bias, bias+scale * 1.1]\n",
    "\n",
    "sc2_primal = np.load(os.path.join(recordpath, \"primal_time.npy\"))\n",
    "sc2_grad = np.load(os.path.join(recordpath,  \"grad_time.npy\"))"
   ]
  },
  {
   "cell_type": "code",
   "execution_count": 5,
   "metadata": {},
   "outputs": [],
   "source": [
    "conf = 5\n",
    "parameter = \"diffusion\"\n",
    "bias = 1.0\n",
    "scale= 10.0\n",
    "screen_d1 = 0\n",
    "folder0 = f\"conf{conf}-{parameter}\"\n",
    "folder1 = f\"res16-scale{scale}-bias{bias}-centered-screen{screen_d1}\"\n",
    "folder2 = f\"spp{spp_primal}_{spp}-seed{seed}-epsilon0.01\"\n",
    "folder3 = \"restensor16\"\n",
    "recordpath = os.path.join(root_directory, folder0, folder1, \n",
    "                          folder2, folder3, \"npy\")\n",
    "max_range_d1 = [bias, bias+scale * 1.1]\n",
    "d1_primal = np.load(os.path.join(recordpath, \"primal_time.npy\"))\n",
    "d1_grad = np.load(os.path.join(recordpath,  \"grad_time.npy\"))\n",
    "\n",
    "conf = 6\n",
    "parameter = \"diffusion\"\n",
    "bias = 1.0\n",
    "scale=10.0\n",
    "screen_d2 = 10.0\n",
    "folder0 = f\"conf{conf}-{parameter}\"\n",
    "folder1 = f\"res16-scale{scale}-bias{bias}-centered-screen{screen_d2}\"\n",
    "folder2 = f\"spp{spp_primal}_{spp}-seed{seed}-epsilon0.01\"\n",
    "folder3 = \"restensor16\"\n",
    "recordpath = os.path.join(root_directory, folder0, folder1, \n",
    "                          folder2, folder3, \"npy\")\n",
    "d2_primal = np.load(os.path.join(recordpath, \"primal_time.npy\"))\n",
    "d2_grad = np.load(os.path.join(recordpath,  \"grad_time.npy\"))"
   ]
  },
  {
   "cell_type": "code",
   "execution_count": 6,
   "metadata": {},
   "outputs": [
    {
     "name": "stdout",
     "output_type": "stream",
     "text": [
      "Opt 1\n",
      "Primal = 0.06 s\n",
      "Grad = 0.28 s\n",
      "Opt 2\n",
      "Primal = 0.05 s\n",
      "Grad = 0.15 s\n",
      "Opt 3\n",
      "Primal = 0.36 s\n",
      "Grad = 0.37 s\n",
      "Opt 4\n",
      "Primal = 0.25 s\n",
      "Grad = 0.26 s\n",
      "Opt 5\n",
      "Primal = 0.70 s\n",
      "Grad = 2.98 s\n",
      "Opt 6\n",
      "Primal = 0.42 s\n",
      "Grad = 1.00 s\n"
     ]
    }
   ],
   "source": [
    "primals = [s1_primal, s2_primal, sc1_primal, sc2_primal, d1_primal, d2_primal]\n",
    "grads = [s1_grad, s2_grad, sc1_grad, sc2_grad, d1_grad, d2_grad]\n",
    "num_iters = [4096, 4096, 4096, 4096, 512, 512]\n",
    "\n",
    "for i, (primal, grad, num_iter) in enumerate(zip(primals, grads, num_iters)):\n",
    "    primal_time = 0\n",
    "    grad_time = 0\n",
    "    for j in range(num_iter):\n",
    "        primal_time += primal[i]\n",
    "        grad_time += grad[i]    \n",
    "    primal_time /= num_iter\n",
    "    grad_time /= num_iter\n",
    "    print(f\"Opt {i + 1}\")\n",
    "    print(f\"Primal = {primal_time:.2f} s\")\n",
    "    print(f\"Grad = {grad_time:.2f} s\")"
   ]
  }
 ],
 "metadata": {
  "kernelspec": {
   "display_name": "inv-pde-new",
   "language": "python",
   "name": "python3"
  },
  "language_info": {
   "codemirror_mode": {
    "name": "ipython",
    "version": 3
   },
   "file_extension": ".py",
   "mimetype": "text/x-python",
   "name": "python",
   "nbconvert_exporter": "python",
   "pygments_lexer": "ipython3",
   "version": "3.10.12"
  }
 },
 "nbformat": 4,
 "nbformat_minor": 2
}
