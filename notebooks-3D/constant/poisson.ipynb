{
 "cells": [
  {
   "cell_type": "code",
   "execution_count": 1,
   "metadata": {},
   "outputs": [],
   "source": [
    "import mitsuba as mi \n",
    "from matplotlib import pyplot as plt\n",
    "mi.set_variant(\"cuda_ad_rgb\")\n",
    "import drjit as dr\n",
    "from PDE3D.BoundaryShape import *\n",
    "from PDE3D import PATH\n",
    "from PDE3D.utils import *\n",
    "from PDE3D.Solver import *\n"
   ]
  },
  {
   "cell_type": "code",
   "execution_count": 2,
   "metadata": {},
   "outputs": [],
   "source": [
    "vis_conf = 0\n",
    "resolution = [256,256]\n",
    "spp = 512\n",
    "radius = 1\n",
    "slice_offset = .2\n",
    "slice_axis = \"z\"\n",
    "boundary_value = 0\n",
    "def source_generator(points, params):\n",
    "    return dr.select(dr.norm(points) < params[\"radius\"], params[\"power\"], 0)\n",
    "source_p = {}\n",
    "source_p[\"radius\"] = 0.5\n",
    "source_p[\"power\"] = 1\n",
    "f = FunctionCoefficient(\"source\", source_p, source_generator)\n",
    "σ = ConstantCoefficient(\"screening\", 10)\n",
    "b = ConstantCoefficient(\"dirichlet\", boundary_value)"
   ]
  },
  {
   "cell_type": "code",
   "execution_count": 3,
   "metadata": {},
   "outputs": [],
   "source": [
    "@dr.syntax\n",
    "def correct_solution(points, params, radius, boundary_value):\n",
    "    rc = params[\"radius\"]\n",
    "    rc2 = dr.square(rc)\n",
    "    rc3 = rc2 * rc\n",
    "    R = radius\n",
    "    f = params[\"power\"]\n",
    "    c2 = -f * rc3 / (3 * R) + boundary_value\n",
    "    c1 = f *  rc2 / 2  + c2\n",
    "\n",
    "    r = dr.norm(points)\n",
    "    r2 = dr.square(r)\n",
    "    result = mi.Float(0)\n",
    "    if r<rc:\n",
    "        result = c1 - f * r2 / 6\n",
    "    elif r<R:\n",
    "        result = f * rc3 / (3 * r) + c2\n",
    "    else:\n",
    "        result = mi.Float(0)\n",
    "    return result"
   ]
  },
  {
   "cell_type": "code",
   "execution_count": 4,
   "metadata": {},
   "outputs": [],
   "source": [
    "shape = Sphere(radius = radius, dirichlet = [b])\n",
    "data_holder = DataHolder(shape = shape, f=f, σ=σ, default_majorant=10.0)"
   ]
  },
  {
   "cell_type": "code",
   "execution_count": 5,
   "metadata": {},
   "outputs": [],
   "source": [
    "wos = WosConstant(data_holder)\n",
    "slice = Slice(offset = slice_offset, axis = slice_axis)\n",
    "\n",
    "points, film_points = slice.create_slice_points(resolution, spp)\n",
    "L, p = wos.solve(points_in= points, conf_numbers= [mi.UInt32(0), mi.UInt32(1)])"
   ]
  },
  {
   "cell_type": "code",
   "execution_count": 6,
   "metadata": {},
   "outputs": [],
   "source": [
    "L_correct = correct_solution(points, source_p, radius, boundary_value)"
   ]
  },
  {
   "cell_type": "code",
   "execution_count": 7,
   "metadata": {},
   "outputs": [],
   "source": [
    "image, _ =create_slice_from_result(L, resolution)\n",
    "image_correct, _ =create_slice_from_result(L_correct, resolution)"
   ]
  },
  {
   "cell_type": "code",
   "execution_count": 8,
   "metadata": {},
   "outputs": [
    {
     "name": "stderr",
     "output_type": "stream",
     "text": [
      "nanobind: implicit conversion from type 'Point3f' to type 'mitsuba.cuda_ad_rgb.ScalarPoint3f' failed!\n"
     ]
    },
    {
     "ename": "TypeError",
     "evalue": "look_at(): incompatible function arguments. The following argument types are supported:\n    1. look_at(self, origin: mitsuba.cuda_ad_rgb.ScalarPoint3f, target: mitsuba.cuda_ad_rgb.ScalarPoint3f, up: mitsuba.cuda_ad_rgb.ScalarPoint3f) -> mitsuba.cuda_ad_rgb.ScalarTransform4f\n\nInvoked with types: mitsuba.cuda_ad_rgb.ScalarTransform4f, kwargs = { origin: mitsuba.cuda_ad_rgb.Point3f, target: mitsuba.cuda_ad_rgb.ScalarPoint3f, up: mitsuba.cuda_ad_rgb.ScalarPoint3f }",
     "output_type": "error",
     "traceback": [
      "\u001b[0;31m---------------------------------------------------------------------------\u001b[0m",
      "\u001b[0;31mTypeError\u001b[0m                                 Traceback (most recent call last)",
      "Cell \u001b[0;32mIn[8], line 3\u001b[0m\n\u001b[1;32m      1\u001b[0m cmap\u001b[38;5;241m=\u001b[39m \u001b[38;5;124m\"\u001b[39m\u001b[38;5;124mviridis\u001b[39m\u001b[38;5;124m\"\u001b[39m\n\u001b[1;32m      2\u001b[0m cam_origin \u001b[38;5;241m=\u001b[39m mi\u001b[38;5;241m.\u001b[39mPoint3f([\u001b[38;5;241m-\u001b[39m\u001b[38;5;241m1.0\u001b[39m,\u001b[38;5;241m1.0\u001b[39m,\u001b[38;5;241m2\u001b[39m])\n\u001b[0;32m----> 3\u001b[0m image3D, norm1 \u001b[38;5;241m=\u001b[39m \u001b[43mshape\u001b[49m\u001b[38;5;241;43m.\u001b[39;49m\u001b[43mvisualize\u001b[49m\u001b[43m(\u001b[49m\u001b[38;5;28;43mslice\u001b[39;49m\u001b[43m \u001b[49m\u001b[38;5;241;43m=\u001b[39;49m\u001b[43m \u001b[49m\u001b[38;5;28;43mslice\u001b[39;49m\u001b[43m,\u001b[49m\u001b[43m \u001b[49m\u001b[43mslice_image\u001b[49m\u001b[43m \u001b[49m\u001b[38;5;241;43m=\u001b[39;49m\u001b[43m \u001b[49m\u001b[43mmi\u001b[49m\u001b[38;5;241;43m.\u001b[39;49m\u001b[43mTensorXf\u001b[49m\u001b[43m(\u001b[49m\u001b[43mimage\u001b[49m\u001b[43m[\u001b[49m\u001b[43mvis_conf\u001b[49m\u001b[43m]\u001b[49m\u001b[43m)\u001b[49m\u001b[43m,\u001b[49m\u001b[43m \u001b[49m\u001b[43mcolormap\u001b[49m\u001b[43m \u001b[49m\u001b[38;5;241;43m=\u001b[39;49m\u001b[43m \u001b[49m\u001b[43mcmap\u001b[49m\u001b[43m,\u001b[49m\u001b[43m \u001b[49m\u001b[43mcam_origin\u001b[49m\u001b[38;5;241;43m=\u001b[39;49m\u001b[43m \u001b[49m\u001b[43mcam_origin\u001b[49m\u001b[43m,\u001b[49m\u001b[43m \u001b[49m\u001b[43mimage_res\u001b[49m\u001b[38;5;241;43m=\u001b[39;49m\u001b[43m[\u001b[49m\u001b[38;5;241;43m512\u001b[39;49m\u001b[43m,\u001b[49m\u001b[43m \u001b[49m\u001b[38;5;241;43m512\u001b[39;49m\u001b[43m]\u001b[49m\u001b[43m)\u001b[49m\n\u001b[1;32m      4\u001b[0m image3D_correct, norm2 \u001b[38;5;241m=\u001b[39m shape\u001b[38;5;241m.\u001b[39mvisualize(\u001b[38;5;28mslice\u001b[39m \u001b[38;5;241m=\u001b[39m \u001b[38;5;28mslice\u001b[39m, slice_image \u001b[38;5;241m=\u001b[39m mi\u001b[38;5;241m.\u001b[39mTensorXf(image_correct[vis_conf]), colormap \u001b[38;5;241m=\u001b[39m cmap, cam_origin\u001b[38;5;241m=\u001b[39m cam_origin, image_res\u001b[38;5;241m=\u001b[39m[\u001b[38;5;241m512\u001b[39m, \u001b[38;5;241m512\u001b[39m])\n\u001b[1;32m      5\u001b[0m image3D_diff, norm_diff \u001b[38;5;241m=\u001b[39m shape\u001b[38;5;241m.\u001b[39mvisualize(\u001b[38;5;28mslice\u001b[39m \u001b[38;5;241m=\u001b[39m \u001b[38;5;28mslice\u001b[39m, slice_image \u001b[38;5;241m=\u001b[39m mi\u001b[38;5;241m.\u001b[39mTensorXf(image_correct[vis_conf] \u001b[38;5;241m-\u001b[39m image[vis_conf]), colormap \u001b[38;5;241m=\u001b[39m \u001b[38;5;124m\"\u001b[39m\u001b[38;5;124mcoolwarm\u001b[39m\u001b[38;5;124m\"\u001b[39m, \n\u001b[1;32m      6\u001b[0m                                           cam_origin\u001b[38;5;241m=\u001b[39m cam_origin, image_res\u001b[38;5;241m=\u001b[39m[\u001b[38;5;241m512\u001b[39m, \u001b[38;5;241m512\u001b[39m], sym_colorbar\u001b[38;5;241m=\u001b[39m\u001b[38;5;28;01mTrue\u001b[39;00m)\n",
      "File \u001b[0;32m~/repos/MC-PDE3D/PDE3D/BoundaryShape/boundary_shape.py:58\u001b[0m, in \u001b[0;36mShape.visualize\u001b[0;34m(self, image_res, cam_origin, cam_target, cam_up, scale_cam, slice, coeff, slice_image, input_range, conf_number, colormap, spp, sym_colorbar)\u001b[0m\n\u001b[1;32m     51\u001b[0m \u001b[38;5;28;01mdef\u001b[39;00m \u001b[38;5;21mvisualize\u001b[39m(\u001b[38;5;28mself\u001b[39m, image_res \u001b[38;5;241m=\u001b[39m [\u001b[38;5;241m512\u001b[39m, \u001b[38;5;241m512\u001b[39m],  \n\u001b[1;32m     52\u001b[0m               cam_origin \u001b[38;5;241m=\u001b[39m mi\u001b[38;5;241m.\u001b[39mScalarPoint3f(\u001b[38;5;241m1\u001b[39m,\u001b[38;5;241m1\u001b[39m,\u001b[38;5;241m2\u001b[39m), cam_target \u001b[38;5;241m=\u001b[39m mi\u001b[38;5;241m.\u001b[39mScalarPoint3f(\u001b[38;5;241m0\u001b[39m, \u001b[38;5;241m0\u001b[39m, \u001b[38;5;241m0\u001b[39m), cam_up \u001b[38;5;241m=\u001b[39m mi\u001b[38;5;241m.\u001b[39mScalarPoint3f([\u001b[38;5;241m0\u001b[39m,\u001b[38;5;241m1\u001b[39m,\u001b[38;5;241m0\u001b[39m]),\n\u001b[1;32m     53\u001b[0m               scale_cam \u001b[38;5;241m=\u001b[39m \u001b[38;5;241m2\u001b[39m, \u001b[38;5;28mslice\u001b[39m : Slice \u001b[38;5;241m=\u001b[39m \u001b[38;5;28;01mNone\u001b[39;00m, coeff \u001b[38;5;241m=\u001b[39m \u001b[38;5;28;01mNone\u001b[39;00m,\n\u001b[1;32m     54\u001b[0m               slice_image \u001b[38;5;241m=\u001b[39m \u001b[38;5;28;01mNone\u001b[39;00m, input_range \u001b[38;5;241m=\u001b[39m \u001b[38;5;28;01mNone\u001b[39;00m, conf_number : mi\u001b[38;5;241m.\u001b[39mUInt32 \u001b[38;5;241m=\u001b[39m \u001b[38;5;28;01mNone\u001b[39;00m, colormap : \u001b[38;5;28mstr\u001b[39m \u001b[38;5;241m=\u001b[39m \u001b[38;5;124m\"\u001b[39m\u001b[38;5;124mviridis\u001b[39m\u001b[38;5;124m\"\u001b[39m,\n\u001b[1;32m     55\u001b[0m               spp \u001b[38;5;241m=\u001b[39m \u001b[38;5;241m64\u001b[39m, sym_colorbar \u001b[38;5;241m=\u001b[39m \u001b[38;5;28;01mFalse\u001b[39;00m):\n\u001b[1;32m     57\u001b[0m     cam \u001b[38;5;241m=\u001b[39m mi\u001b[38;5;241m.\u001b[39mload_dict({\u001b[38;5;124m'\u001b[39m\u001b[38;5;124mtype\u001b[39m\u001b[38;5;124m'\u001b[39m: \u001b[38;5;124m'\u001b[39m\u001b[38;5;124morthographic\u001b[39m\u001b[38;5;124m'\u001b[39m,\n\u001b[0;32m---> 58\u001b[0m                         \u001b[38;5;124m'\u001b[39m\u001b[38;5;124mto_world\u001b[39m\u001b[38;5;124m'\u001b[39m: \u001b[43mmi\u001b[49m\u001b[38;5;241;43m.\u001b[39;49m\u001b[43mScalarTransform4f\u001b[49m\u001b[43m(\u001b[49m\u001b[43m)\u001b[49m\u001b[38;5;241;43m.\u001b[39;49m\u001b[43mlook_at\u001b[49m\u001b[43m(\u001b[49m\n\u001b[1;32m     59\u001b[0m \u001b[43m                        \u001b[49m\u001b[43morigin\u001b[49m\u001b[38;5;241;43m=\u001b[39;49m\u001b[43mcam_origin\u001b[49m\u001b[43m,\u001b[49m\n\u001b[1;32m     60\u001b[0m \u001b[43m                        \u001b[49m\u001b[43mtarget\u001b[49m\u001b[38;5;241;43m=\u001b[39;49m\u001b[43mcam_target\u001b[49m\u001b[43m,\u001b[49m\n\u001b[1;32m     61\u001b[0m \u001b[43m                        \u001b[49m\u001b[43mup\u001b[49m\u001b[38;5;241;43m=\u001b[39;49m\u001b[43mcam_up\u001b[49m\u001b[43m,\u001b[49m\n\u001b[1;32m     62\u001b[0m \u001b[43m                        \u001b[49m\u001b[43m)\u001b[49m\u001b[38;5;241m@\u001b[39m mi\u001b[38;5;241m.\u001b[39mScalarTransform4f()\u001b[38;5;241m.\u001b[39mscale([\u001b[38;5;241m1\u001b[39m \u001b[38;5;241m/\u001b[39m scale_cam, \u001b[38;5;241m1\u001b[39m \u001b[38;5;241m/\u001b[39m scale_cam, \u001b[38;5;241m1\u001b[39m])}) \n\u001b[1;32m     64\u001b[0m     \u001b[38;5;66;03m#cam_dir = dr.normalize(-cam_origin)\u001b[39;00m\n\u001b[1;32m     65\u001b[0m \n\u001b[1;32m     66\u001b[0m     \u001b[38;5;66;03m# Construct a grid of 2D coordinates\u001b[39;00m\n\u001b[1;32m     67\u001b[0m     x, y \u001b[38;5;241m=\u001b[39m dr\u001b[38;5;241m.\u001b[39mmeshgrid((dr\u001b[38;5;241m.\u001b[39marange(mi\u001b[38;5;241m.\u001b[39mFloat, image_res[\u001b[38;5;241m0\u001b[39m]) \u001b[38;5;241m+\u001b[39m \u001b[38;5;241m0.5\u001b[39m) \u001b[38;5;241m/\u001b[39m image_res[\u001b[38;5;241m0\u001b[39m],\n\u001b[1;32m     68\u001b[0m                        (dr\u001b[38;5;241m.\u001b[39marange(mi\u001b[38;5;241m.\u001b[39mFloat, image_res[\u001b[38;5;241m1\u001b[39m]) \u001b[38;5;241m+\u001b[39m \u001b[38;5;241m0.5\u001b[39m) \u001b[38;5;241m/\u001b[39m image_res[\u001b[38;5;241m1\u001b[39m])\n",
      "\u001b[0;31mTypeError\u001b[0m: look_at(): incompatible function arguments. The following argument types are supported:\n    1. look_at(self, origin: mitsuba.cuda_ad_rgb.ScalarPoint3f, target: mitsuba.cuda_ad_rgb.ScalarPoint3f, up: mitsuba.cuda_ad_rgb.ScalarPoint3f) -> mitsuba.cuda_ad_rgb.ScalarTransform4f\n\nInvoked with types: mitsuba.cuda_ad_rgb.ScalarTransform4f, kwargs = { origin: mitsuba.cuda_ad_rgb.Point3f, target: mitsuba.cuda_ad_rgb.ScalarPoint3f, up: mitsuba.cuda_ad_rgb.ScalarPoint3f }"
     ]
    }
   ],
   "source": [
    "cmap= \"viridis\"\n",
    "cam_origin = mi.Point3f([-1.0,1.0,2])\n",
    "image3D, norm1 = shape.visualize(slice = slice, slice_image = mi.TensorXf(image[vis_conf]), colormap = cmap, cam_origin= cam_origin, image_res=[512, 512])\n",
    "image3D_correct, norm2 = shape.visualize(slice = slice, slice_image = mi.TensorXf(image_correct[vis_conf]), colormap = cmap, cam_origin= cam_origin, image_res=[512, 512])\n",
    "image3D_diff, norm_diff = shape.visualize(slice = slice, slice_image = mi.TensorXf(image_correct[vis_conf] - image[vis_conf]), colormap = \"coolwarm\", \n",
    "                                          cam_origin= cam_origin, image_res=[512, 512], sym_colorbar=True)\n",
    "fig, (ax1, ax2, ax3) = plt.subplots(1,3,figsize = (15,5))\n",
    "plot_image_3D(image3D, ax1, norm = norm1, cmap = cmap)\n",
    "plot_image_3D(image3D_correct, ax2, norm = norm2, cmap = cmap)\n",
    "plot_image_3D(image3D_diff, ax3, norm = norm_diff, cmap = \"coolwarm\")\n",
    "ax1.set_title(\"Simulation\")\n",
    "ax2.set_title(\"Analytic\")\n",
    "ax3.set_title(\"Difference\")"
   ]
  }
 ],
 "metadata": {
  "kernelspec": {
   "display_name": "invpde-3D",
   "language": "python",
   "name": "python3"
  },
  "language_info": {
   "codemirror_mode": {
    "name": "ipython",
    "version": 3
   },
   "file_extension": ".py",
   "mimetype": "text/x-python",
   "name": "python",
   "nbconvert_exporter": "python",
   "pygments_lexer": "ipython3",
   "version": "3.10.12"
  }
 },
 "nbformat": 4,
 "nbformat_minor": 2
}
