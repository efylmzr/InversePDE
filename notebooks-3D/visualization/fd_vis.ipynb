{
 "cells": [
  {
   "cell_type": "code",
   "execution_count": 1,
   "metadata": {},
   "outputs": [],
   "source": [
    "import mitsuba as mi \n",
    "mi.set_variant(\"cuda_ad_rgb\")\n",
    "from PDE3D import PATH \n",
    "from PDE3D.BoundaryShape import * \n",
    "import os \n",
    "from matplotlib import gridspec\n",
    "import matplotlib\n",
    "import matplotlib.ticker as ticker\n",
    "from PDE3D.utils import *\n",
    "\n",
    "matplotlib.rcParams.update(MPL_STYLE)\n",
    "frame_color = \"white\"\n",
    "col_width = COLUMN_WIDTH"
   ]
  },
  {
   "cell_type": "code",
   "execution_count": 2,
   "metadata": {},
   "outputs": [
    {
     "name": "stderr",
     "output_type": "stream",
     "text": [
      "jit_flush_malloc_cache(): Dr.Jit exhausted the available memory and had to flush its allocation cache to free up additional memory. This is an expensive operation and will have a negative effect on performance. You may want to change your computation so that it uses less memory. This warning will only be displayed once.\n"
     ]
    }
   ],
   "source": [
    "name = \"motorbike-engine\"\n",
    "folder_name = os.path.join(PATH, \"scenes\", name)\n",
    "xml_name = os.path.join(folder_name, \"scene.xml\")\n",
    "sdf_data = np.load(os.path.join(folder_name, \"sdf.npy\")) - 0.002\n",
    "boundary = SDF(sdf_data, scale = 12, mesh_scene_xml=xml_name)"
   ]
  },
  {
   "cell_type": "code",
   "execution_count": 3,
   "metadata": {},
   "outputs": [],
   "source": [
    "slice = Slice(offset =0.0, scale = 7, axis = \"z\")\n",
    "cam_origin = mi.ScalarPoint3f([7.8,7,20])\n",
    "scale_cam = 0.28\n",
    "cam_target = mi.ScalarPoint3f([0,-0.1,-0.2])\n",
    "cam_up = mi.ScalarPoint3f([0,1,0])\n",
    "cam_res = [1024, 1024]\n",
    "spp = 512\n",
    "\n",
    "cmap = \"coolwarm\""
   ]
  },
  {
   "cell_type": "code",
   "execution_count": 4,
   "metadata": {},
   "outputs": [],
   "source": [
    "res_primal = 4\n",
    "fd = 0.001\n",
    "res_tensor = 5\n",
    "path = os.path.join(PATH, \"output3D\", \"finite_differences\", \"variable\")\n",
    "source_prb =np.load(os.path.join(path, f\"source-resprimal{res_primal}\", f\"source{res_tensor}-prb.npy\"))\n",
    "source_fd =np.load(os.path.join(path, f\"source-resprimal{res_primal}\", f\"source{res_tensor}-fd{fd}.npy\"))\n",
    "screening_prb = np.load(os.path.join(path, f\"screening-resprimal{res_primal}\", f\"screening{res_tensor}-prb.npy\"))\n",
    "screening_fd = np.load(os.path.join(path, f\"screening-resprimal{res_primal}\", f\"screening{res_tensor}-fd{fd}.npy\"))\n",
    "diffusion_prb = np.load(os.path.join(path, f\"diffusion-resprimal{res_primal}\", f\"diffusion{res_tensor}-prb.npy\"))\n",
    "diffusion_fd = np.load(os.path.join(path, f\"diffusion-resprimal{res_primal}\", f\"diffusion{res_tensor}-fd{fd}.npy\"))"
   ]
  },
  {
   "cell_type": "code",
   "execution_count": 5,
   "metadata": {},
   "outputs": [],
   "source": [
    "bbox = boundary.bbox\n",
    "bbox_pad = (bbox.max - bbox.min) / 10\n",
    "bbox_coeff = mi.ScalarBoundingBox3f(bbox.min - bbox_pad, bbox.max + bbox_pad) \n",
    "\n",
    "f_prb = TextureCoefficient(\"prb\", bbox_coeff, source_prb, interpolation=\"nearest\")\n",
    "f_fd  = TextureCoefficient( \"fd\", bbox_coeff, source_fd, interpolation = \"nearest\")\n",
    "σ_prb = TextureCoefficient(\"prb\", bbox_coeff, screening_prb, interpolation = \"nearest\")\n",
    "σ_fd = TextureCoefficient(\"fd\", bbox_coeff, screening_fd, interpolation = \"nearest\")\n",
    "α_prb = TextureCoefficient(\"prb\", bbox_coeff, diffusion_prb, interpolation = \"nearest\")\n",
    "α_fd = TextureCoefficient(\"fd\", bbox_coeff, diffusion_fd, interpolation = \"nearest\")"
   ]
  },
  {
   "cell_type": "code",
   "execution_count": 6,
   "metadata": {},
   "outputs": [],
   "source": [
    "f_prb_3D, f_prb_norm = boundary.visualize(colormap = cmap, cam_origin= cam_origin, spp = spp, image_res = cam_res, \n",
    "                                          scale_cam=scale_cam, cam_up = cam_up, slice = slice, cam_target = cam_target, \n",
    "                                          coeff= f_prb, sym_colorbar = True)\n",
    "f_fd_3D, f_fd_norm = boundary.visualize(colormap = cmap, cam_origin= cam_origin, spp = spp, image_res = cam_res, \n",
    "                                          scale_cam=scale_cam, cam_up = cam_up, slice = slice, cam_target = cam_target, \n",
    "                                          coeff= f_fd, sym_colorbar = True)\n",
    "\n",
    "σ_prb_3D, σ_prb_norm = boundary.visualize(colormap = cmap, cam_origin= cam_origin, spp = spp, image_res = cam_res, \n",
    "                                          scale_cam=scale_cam, cam_up = cam_up, slice = slice, cam_target = cam_target, \n",
    "                                          coeff= σ_prb, sym_colorbar = True)\n",
    "σ_fd_3D, σ_fd_norm = boundary.visualize(colormap = cmap, cam_origin= cam_origin, spp = spp, image_res = cam_res, \n",
    "                                          scale_cam=scale_cam, cam_up = cam_up, slice = slice, cam_target = cam_target, \n",
    "                                          coeff= σ_fd, sym_colorbar = True)\n",
    "\n",
    "α_prb_3D, α_prb_norm = boundary.visualize(colormap = cmap, cam_origin= cam_origin, spp = spp, image_res = cam_res, \n",
    "                                          scale_cam=scale_cam, cam_up = cam_up, slice = slice, cam_target = cam_target, \n",
    "                                          coeff= α_prb, sym_colorbar = True)\n",
    "α_fd_3D, α_fd_norm = boundary.visualize(colormap = cmap, cam_origin= cam_origin, spp = spp, image_res = cam_res, \n",
    "                                          scale_cam=scale_cam, cam_up = cam_up, slice = slice, cam_target = cam_target, \n",
    "                                          coeff= α_fd, sym_colorbar = True)"
   ]
  },
  {
   "cell_type": "code",
   "execution_count": 7,
   "metadata": {},
   "outputs": [
    {
     "name": "stderr",
     "output_type": "stream",
     "text": [
      "Clipping input data to the valid range for imshow with RGB data ([0..1] for floats or [0..255] for integers). Got range [0.0..1.7355973].\n",
      "Clipping input data to the valid range for imshow with RGB data ([0..1] for floats or [0..255] for integers). Got range [0.0..1.7355975].\n",
      "Clipping input data to the valid range for imshow with RGB data ([0..1] for floats or [0..255] for integers). Got range [0.0..1.7355976].\n",
      "Clipping input data to the valid range for imshow with RGB data ([0..1] for floats or [0..255] for integers). Got range [0.0..1.7355975].\n",
      "Clipping input data to the valid range for imshow with RGB data ([0..1] for floats or [0..255] for integers). Got range [0.0..1.7355975].\n",
      "Clipping input data to the valid range for imshow with RGB data ([0..1] for floats or [0..255] for integers). Got range [0.0..1.7355974].\n",
      "GPL Ghostscript 9.55.0: Can't embed the complete font LinBiolinumT as it is too large, embedding a subset.\n",
      "GPL Ghostscript 9.55.0: Can't embed the complete font LinLibertineT as it is too large, embedding a subset.\n"
     ]
    },
    {
     "data": {
      "text/plain": [
       "'/home/ekrem/repos/MC-PDE3D/figures/fd_3D/fd_3D.pdf'"
      ]
     },
     "execution_count": 7,
     "metadata": {},
     "output_type": "execute_result"
    },
    {
     "data": {
      "image/png": "[encoded data removed]",
      "text/plain": [
       "<Figure size 337.705x186.32 with 10 Axes>"
      ]
     },
     "metadata": {},
     "output_type": "display_data"
    }
   ],
   "source": [
    "imsize = 30\n",
    "imsize_h = 24\n",
    "imsize_v = 27\n",
    "pre_offset = 1\n",
    "offset = 2\n",
    "post_offset = 10\n",
    "cbar_begin_offset = 2\n",
    "cbar_end_offset = 6\n",
    "o1 = 10\n",
    "o2 = 5\n",
    "total_offset = pre_offset + offset + post_offset\n",
    "\n",
    "lx = 2 * imsize_v + o1\n",
    "ly = (3 * imsize_h + 3 * total_offset + o2)\n",
    "scale = col_width / ly\n",
    "fig = plt.figure(figsize = (ly * scale, lx * scale))\n",
    "g = gridspec.GridSpec(lx, ly, figure = fig, wspace =0, hspace=0)\n",
    "\n",
    "ax = fig.add_subplot(g[:,:])\n",
    "disable_ticks(ax)\n",
    "plt.setp(ax.spines.values(), color=frame_color)\n",
    "f_prb_ax = fig.add_subplot(g[0 + o1 : imsize_v+ o1 , 0 + o2 : imsize_h+ o2 ])\n",
    "f_fd_ax = fig.add_subplot(g[imsize_v+ o1  : 2 * imsize_v+ o1 , 0+ o2  : imsize_h+ o2 ])\n",
    "\n",
    "σ_prb_ax = fig.add_subplot(g[0 + o1 : imsize_v+ o1 , imsize_h + total_offset + o2 : 2 * imsize_h + total_offset+ o2 ])\n",
    "σ_fd_ax = fig.add_subplot(g[imsize_v + o1 : 2 * imsize_v+ o1 , imsize_h + total_offset+ o2  : 2 * imsize_h + total_offset+ o2 ])\n",
    "\n",
    "α_prb_ax = fig.add_subplot(g[0 + o1 : imsize_v+ o1 , 2 * imsize_h + 2 * total_offset+ o2  : 3 * imsize_h + 2 * total_offset+ o2 ])\n",
    "α_fd_ax = fig.add_subplot(g[imsize_v + o1 : 2 * imsize_v+ o1 , 2 * imsize_h + 2 * total_offset+ o2  : 3 * imsize_h + 2 * total_offset+ o2 ])\n",
    "\n",
    "f_cbar_ax = fig.add_subplot(g[cbar_begin_offset + o1 :2 * imsize_v+ o1  - cbar_begin_offset, imsize_h + pre_offset+ o2  : imsize_h + pre_offset + offset+ o2 ])\n",
    "σ_cbar_ax = fig.add_subplot(g[cbar_begin_offset+ o1  :2 * imsize_v - cbar_begin_offset+ o1 , \n",
    "                              2 * imsize_h + total_offset + pre_offset+ o2  : 2 * imsize_h + total_offset + pre_offset + offset+ o2 ])\n",
    "α_cbar_ax = fig.add_subplot(g[cbar_begin_offset+ o1  :2 * imsize_v - cbar_begin_offset+ o1, \n",
    "                              3 * imsize_h + 2 * total_offset + pre_offset+ o2  : 3 * imsize_h + 2 * total_offset + pre_offset + offset+ o2 ])\n",
    "\n",
    "disable_border(f_prb_ax)\n",
    "disable_ticks(f_prb_ax)\n",
    "disable_border(σ_prb_ax)\n",
    "disable_ticks(σ_prb_ax)\n",
    "disable_border(α_prb_ax)\n",
    "disable_ticks(α_prb_ax)\n",
    "\n",
    "disable_border(f_fd_ax)\n",
    "disable_ticks(f_fd_ax)\n",
    "disable_border(σ_fd_ax)\n",
    "disable_ticks(σ_fd_ax)\n",
    "disable_border(α_fd_ax)\n",
    "disable_ticks(α_fd_ax)\n",
    "\n",
    "\n",
    "\n",
    "plot_image_3D(f_prb_3D[:int(imsize_v / imsize * cam_res[0]), -int(imsize_h / imsize * cam_res[1]):], f_prb_ax, cmap = cmap)\n",
    "plot_image_3D(f_fd_3D[:int(imsize_v / imsize * cam_res[0]), -int(imsize_h / imsize * cam_res[1]):], f_fd_ax, cmap = cmap)\n",
    "\n",
    "plot_image_3D(σ_prb_3D[:int(imsize_v / imsize * cam_res[0]), -int(imsize_h / imsize * cam_res[1]):],  σ_prb_ax, cmap = cmap)\n",
    "plot_image_3D(σ_fd_3D[:int(imsize_v / imsize * cam_res[0]), -int(imsize_h / imsize * cam_res[1]):], σ_fd_ax, cmap = cmap)\n",
    "\n",
    "plot_image_3D(α_prb_3D[:int(imsize_v / imsize * cam_res[0]), -int(imsize_h / imsize * cam_res[1]):], α_prb_ax, cmap = cmap)\n",
    "plot_image_3D(α_fd_3D[:int(imsize_v / imsize * cam_res[0]), -int(imsize_h / imsize * cam_res[1]):], α_fd_ax, cmap = cmap)\n",
    "\n",
    "num_ticks = 3\n",
    "f_cbar = plt.colorbar(mpl.cm.ScalarMappable(norm=f_fd_norm, cmap=cmap), cax=f_cbar_ax, orientation='vertical')\n",
    "tick_locator = ticker.MaxNLocator(nbins=num_ticks)\n",
    "f_cbar.locator = tick_locator\n",
    "f_cbar.formatter.set_powerlimits((0, 0))\n",
    "f_cbar.ax.yaxis.set_offset_position('left') \n",
    "f_cbar.update_ticks()\n",
    "\n",
    "σ_cbar = plt.colorbar(mpl.cm.ScalarMappable(norm=σ_fd_norm, cmap=cmap), cax=σ_cbar_ax, orientation='vertical')\n",
    "tick_locator = ticker.MaxNLocator(nbins=num_ticks)\n",
    "σ_cbar.locator = tick_locator\n",
    "σ_cbar.formatter.set_powerlimits((0, 0))\n",
    "σ_cbar.ax.yaxis.set_offset_position('left') \n",
    "σ_cbar.update_ticks()\n",
    "\n",
    "α_cbar = plt.colorbar(mpl.cm.ScalarMappable(norm=α_fd_norm, cmap=cmap), cax=α_cbar_ax, orientation='vertical')\n",
    "tick_locator = ticker.MaxNLocator(nbins=num_ticks)\n",
    "α_cbar.locator = tick_locator\n",
    "α_cbar.formatter.set_powerlimits((0, 0))\n",
    "α_cbar.ax.yaxis.set_offset_position('left') \n",
    "α_cbar.update_ticks()\n",
    "\n",
    "pad = 10\n",
    "f_prb_ax.set_title(r\"Source, $f$\", pad = pad, fontsize = DEFAULT_FONTSIZE_SMALL)\n",
    "σ_prb_ax.set_title(r\"Screening, $\\sigma$\", pad = pad, fontsize = DEFAULT_FONTSIZE_SMALL)\n",
    "α_prb_ax.set_title(r\"Diffusion, $\\alpha$\", pad = pad, fontsize = DEFAULT_FONTSIZE_SMALL)\n",
    "\n",
    "f_prb_ax.set_ylabel(\"Ours\")\n",
    "f_fd_ax.set_ylabel(\"FD\")\n",
    "\n",
    "plt.savefig(os.path.join(PATH, \"figures\", \"png\", \"fd_3D.png\"), bbox_inches='tight', pad_inches=0.04, dpi=1000)\n",
    "save_fig(\"fd_3D\", os.path.join(PATH, \"figures\"))"
   ]
  }
 ],
 "metadata": {
  "kernelspec": {
   "display_name": "invpde-3D",
   "language": "python",
   "name": "python3"
  },
  "language_info": {
   "codemirror_mode": {
    "name": "ipython",
    "version": 3
   },
   "file_extension": ".py",
   "mimetype": "text/x-python",
   "name": "python",
   "nbconvert_exporter": "python",
   "pygments_lexer": "ipython3",
   "version": "3.10.12"
  }
 },
 "nbformat": 4,
 "nbformat_minor": 2
}
