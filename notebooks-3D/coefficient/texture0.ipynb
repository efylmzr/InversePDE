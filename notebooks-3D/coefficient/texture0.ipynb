{
 "cells": [
  {
   "cell_type": "code",
   "execution_count": 1,
   "metadata": {},
   "outputs": [],
   "source": [
    "import mitsuba as mi \n",
    "mi.set_variant(\"cuda_ad_rgb\")\n",
    "from PDE3D.BoundaryShape import *\n",
    "from PDE3D.Coefficient import *\n",
    "from PDE3D.utils import *"
   ]
  },
  {
   "cell_type": "code",
   "execution_count": 2,
   "metadata": {},
   "outputs": [],
   "source": [
    "img = np.array([[[1,2,3,4],\n",
    "                 [1,2,3,4],\n",
    "                 [1,2,3,4],\n",
    "                 [1,2,3,4]],\n",
    "                 [[1,2,3,4],\n",
    "                 [1,2,3,4],\n",
    "                 [1,2,3,4],\n",
    "                 [1,2,3,4]],\n",
    "                 [[1,2,3,4],\n",
    "                 [1,2,3,4],\n",
    "                 [1,2,3,4],\n",
    "                 [1,2,3,4]],\n",
    "                 [[1,2,3,4],\n",
    "                 [1,2,3,4],\n",
    "                 [1,2,3,4],\n",
    "                 [1,2,3,4]]])\n",
    "\n",
    "img = np.swapaxes(img, 0,1)\n",
    "\n",
    "bbox_tex = mi.BoundingBox3f([-1,-1,-1],[1,1,1])\n",
    "tex = TextureCoefficient(\"tex\", bbox_tex, img, interpolation=\"cubic\")"
   ]
  },
  {
   "cell_type": "code",
   "execution_count": 3,
   "metadata": {},
   "outputs": [
    {
     "data": {
      "text/plain": [
       "[2.7]"
      ]
     },
     "execution_count": 3,
     "metadata": {},
     "output_type": "execute_result"
    }
   ],
   "source": [
    "tex.get_value(mi.Point3f(0,1,0.1))"
   ]
  },
  {
   "cell_type": "code",
   "execution_count": 4,
   "metadata": {},
   "outputs": [
    {
     "data": {
      "text/plain": [
       "[[2.5]]"
      ]
     },
     "execution_count": 4,
     "metadata": {},
     "output_type": "execute_result"
    }
   ],
   "source": [
    "tex.texture.eval_cubic(mi.Point3f(0.5,0.5,0.5))"
   ]
  },
  {
   "cell_type": "code",
   "execution_count": 5,
   "metadata": {},
   "outputs": [],
   "source": [
    "texd = mi.Texture3f(mi.TensorXf(img[...,np.newaxis]))"
   ]
  },
  {
   "cell_type": "code",
   "execution_count": 6,
   "metadata": {},
   "outputs": [
    {
     "data": {
      "text/plain": [
       "[[1]]"
      ]
     },
     "execution_count": 6,
     "metadata": {},
     "output_type": "execute_result"
    }
   ],
   "source": [
    "texd.eval(mi.Point3f(0, 0, 0.5))"
   ]
  }
 ],
 "metadata": {
  "kernelspec": {
   "display_name": "invpde-3D",
   "language": "python",
   "name": "python3"
  },
  "language_info": {
   "codemirror_mode": {
    "name": "ipython",
    "version": 3
   },
   "file_extension": ".py",
   "mimetype": "text/x-python",
   "name": "python",
   "nbconvert_exporter": "python",
   "pygments_lexer": "ipython3",
   "version": "3.10.12"
  }
 },
 "nbformat": 4,
 "nbformat_minor": 2
}
